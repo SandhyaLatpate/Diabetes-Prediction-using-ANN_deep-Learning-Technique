{
  "nbformat": 4,
  "nbformat_minor": 0,
  "metadata": {
    "colab": {
      "provenance": []
    },
    "kernelspec": {
      "name": "python3",
      "display_name": "Python 3"
    },
    "language_info": {
      "name": "python"
    },
    "accelerator": "GPU",
    "gpuClass": "standard"
  },
  "cells": [
    {
      "cell_type": "markdown",
      "source": [
        "# Importing the Libraries"
      ],
      "metadata": {
        "id": "5Xyj4cARRUOY"
      }
    },
    {
      "cell_type": "code",
      "source": [
        "import numpy as np\n",
        "import pandas as pd\n",
        "import seaborn as sns\n",
        "import matplotlib.pyplot as plt\n",
        "from sklearn.model_selection import train_test_split\n",
        "from sklearn.metrics import accuracy_score,classification_report,confusion_matrix\n",
        "\n",
        "from sklearn.preprocessing import StandardScaler\n"
      ],
      "metadata": {
        "id": "ksu6AdweQ7bA"
      },
      "execution_count": 1,
      "outputs": []
    },
    {
      "cell_type": "code",
      "source": [
        "# libraries for the model building\n",
        "\n",
        "import tensorflow\n",
        "from tensorflow import keras\n",
        "from tensorflow.keras import Sequential\n",
        "from tensorflow.keras.layers import Dense\n",
        "from tensorflow.keras.layers import Dropout"
      ],
      "metadata": {
        "id": "8r_hm-aPQ7dy"
      },
      "execution_count": 2,
      "outputs": []
    },
    {
      "cell_type": "code",
      "source": [
        "# loading the diabetes dataset to pandas dataframe\n",
        "\n",
        "df = pd.read_csv(\"/content/diabetes.csv\")"
      ],
      "metadata": {
        "id": "fgF7cMDBQ7gM"
      },
      "execution_count": 3,
      "outputs": []
    },
    {
      "cell_type": "code",
      "source": [
        "df"
      ],
      "metadata": {
        "colab": {
          "base_uri": "https://localhost:8080/",
          "height": 468
        },
        "id": "qCTexUKVQ7iw",
        "outputId": "838be190-d216-4c95-9034-094e111dd92d"
      },
      "execution_count": 4,
      "outputs": [
        {
          "output_type": "execute_result",
          "data": {
            "text/plain": [
              "     Pregnancies  Glucose  BloodPressure  SkinThickness  Insulin   BMI  \\\n",
              "0              6      148             72             35        0  33.6   \n",
              "1              1       85             66             29        0  26.6   \n",
              "2              8      183             64              0        0  23.3   \n",
              "3              1       89             66             23       94  28.1   \n",
              "4              0      137             40             35      168  43.1   \n",
              "..           ...      ...            ...            ...      ...   ...   \n",
              "763           10      101             76             48      180  32.9   \n",
              "764            2      122             70             27        0  36.8   \n",
              "765            5      121             72             23      112  26.2   \n",
              "766            1      126             60              0        0  30.1   \n",
              "767            1       93             70             31        0  30.4   \n",
              "\n",
              "     DiabetesPedigreeFunction  Age  Outcome  \n",
              "0                       0.627   50        1  \n",
              "1                       0.351   31        0  \n",
              "2                       0.672   32        1  \n",
              "3                       0.167   21        0  \n",
              "4                       2.288   33        1  \n",
              "..                        ...  ...      ...  \n",
              "763                     0.171   63        0  \n",
              "764                     0.340   27        0  \n",
              "765                     0.245   30        0  \n",
              "766                     0.349   47        1  \n",
              "767                     0.315   23        0  \n",
              "\n",
              "[768 rows x 9 columns]"
            ],
            "text/html": [
              "\n",
              "  <div id=\"df-915a8589-6745-4b7c-a8e2-5d32971cdc2c\">\n",
              "    <div class=\"colab-df-container\">\n",
              "      <div>\n",
              "<style scoped>\n",
              "    .dataframe tbody tr th:only-of-type {\n",
              "        vertical-align: middle;\n",
              "    }\n",
              "\n",
              "    .dataframe tbody tr th {\n",
              "        vertical-align: top;\n",
              "    }\n",
              "\n",
              "    .dataframe thead th {\n",
              "        text-align: right;\n",
              "    }\n",
              "</style>\n",
              "<table border=\"1\" class=\"dataframe\">\n",
              "  <thead>\n",
              "    <tr style=\"text-align: right;\">\n",
              "      <th></th>\n",
              "      <th>Pregnancies</th>\n",
              "      <th>Glucose</th>\n",
              "      <th>BloodPressure</th>\n",
              "      <th>SkinThickness</th>\n",
              "      <th>Insulin</th>\n",
              "      <th>BMI</th>\n",
              "      <th>DiabetesPedigreeFunction</th>\n",
              "      <th>Age</th>\n",
              "      <th>Outcome</th>\n",
              "    </tr>\n",
              "  </thead>\n",
              "  <tbody>\n",
              "    <tr>\n",
              "      <th>0</th>\n",
              "      <td>6</td>\n",
              "      <td>148</td>\n",
              "      <td>72</td>\n",
              "      <td>35</td>\n",
              "      <td>0</td>\n",
              "      <td>33.6</td>\n",
              "      <td>0.627</td>\n",
              "      <td>50</td>\n",
              "      <td>1</td>\n",
              "    </tr>\n",
              "    <tr>\n",
              "      <th>1</th>\n",
              "      <td>1</td>\n",
              "      <td>85</td>\n",
              "      <td>66</td>\n",
              "      <td>29</td>\n",
              "      <td>0</td>\n",
              "      <td>26.6</td>\n",
              "      <td>0.351</td>\n",
              "      <td>31</td>\n",
              "      <td>0</td>\n",
              "    </tr>\n",
              "    <tr>\n",
              "      <th>2</th>\n",
              "      <td>8</td>\n",
              "      <td>183</td>\n",
              "      <td>64</td>\n",
              "      <td>0</td>\n",
              "      <td>0</td>\n",
              "      <td>23.3</td>\n",
              "      <td>0.672</td>\n",
              "      <td>32</td>\n",
              "      <td>1</td>\n",
              "    </tr>\n",
              "    <tr>\n",
              "      <th>3</th>\n",
              "      <td>1</td>\n",
              "      <td>89</td>\n",
              "      <td>66</td>\n",
              "      <td>23</td>\n",
              "      <td>94</td>\n",
              "      <td>28.1</td>\n",
              "      <td>0.167</td>\n",
              "      <td>21</td>\n",
              "      <td>0</td>\n",
              "    </tr>\n",
              "    <tr>\n",
              "      <th>4</th>\n",
              "      <td>0</td>\n",
              "      <td>137</td>\n",
              "      <td>40</td>\n",
              "      <td>35</td>\n",
              "      <td>168</td>\n",
              "      <td>43.1</td>\n",
              "      <td>2.288</td>\n",
              "      <td>33</td>\n",
              "      <td>1</td>\n",
              "    </tr>\n",
              "    <tr>\n",
              "      <th>...</th>\n",
              "      <td>...</td>\n",
              "      <td>...</td>\n",
              "      <td>...</td>\n",
              "      <td>...</td>\n",
              "      <td>...</td>\n",
              "      <td>...</td>\n",
              "      <td>...</td>\n",
              "      <td>...</td>\n",
              "      <td>...</td>\n",
              "    </tr>\n",
              "    <tr>\n",
              "      <th>763</th>\n",
              "      <td>10</td>\n",
              "      <td>101</td>\n",
              "      <td>76</td>\n",
              "      <td>48</td>\n",
              "      <td>180</td>\n",
              "      <td>32.9</td>\n",
              "      <td>0.171</td>\n",
              "      <td>63</td>\n",
              "      <td>0</td>\n",
              "    </tr>\n",
              "    <tr>\n",
              "      <th>764</th>\n",
              "      <td>2</td>\n",
              "      <td>122</td>\n",
              "      <td>70</td>\n",
              "      <td>27</td>\n",
              "      <td>0</td>\n",
              "      <td>36.8</td>\n",
              "      <td>0.340</td>\n",
              "      <td>27</td>\n",
              "      <td>0</td>\n",
              "    </tr>\n",
              "    <tr>\n",
              "      <th>765</th>\n",
              "      <td>5</td>\n",
              "      <td>121</td>\n",
              "      <td>72</td>\n",
              "      <td>23</td>\n",
              "      <td>112</td>\n",
              "      <td>26.2</td>\n",
              "      <td>0.245</td>\n",
              "      <td>30</td>\n",
              "      <td>0</td>\n",
              "    </tr>\n",
              "    <tr>\n",
              "      <th>766</th>\n",
              "      <td>1</td>\n",
              "      <td>126</td>\n",
              "      <td>60</td>\n",
              "      <td>0</td>\n",
              "      <td>0</td>\n",
              "      <td>30.1</td>\n",
              "      <td>0.349</td>\n",
              "      <td>47</td>\n",
              "      <td>1</td>\n",
              "    </tr>\n",
              "    <tr>\n",
              "      <th>767</th>\n",
              "      <td>1</td>\n",
              "      <td>93</td>\n",
              "      <td>70</td>\n",
              "      <td>31</td>\n",
              "      <td>0</td>\n",
              "      <td>30.4</td>\n",
              "      <td>0.315</td>\n",
              "      <td>23</td>\n",
              "      <td>0</td>\n",
              "    </tr>\n",
              "  </tbody>\n",
              "</table>\n",
              "<p>768 rows × 9 columns</p>\n",
              "</div>\n",
              "      <button class=\"colab-df-convert\" onclick=\"convertToInteractive('df-915a8589-6745-4b7c-a8e2-5d32971cdc2c')\"\n",
              "              title=\"Convert this dataframe to an interactive table.\"\n",
              "              style=\"display:none;\">\n",
              "        \n",
              "  <svg xmlns=\"http://www.w3.org/2000/svg\" height=\"24px\"viewBox=\"0 0 24 24\"\n",
              "       width=\"24px\">\n",
              "    <path d=\"M0 0h24v24H0V0z\" fill=\"none\"/>\n",
              "    <path d=\"M18.56 5.44l.94 2.06.94-2.06 2.06-.94-2.06-.94-.94-2.06-.94 2.06-2.06.94zm-11 1L8.5 8.5l.94-2.06 2.06-.94-2.06-.94L8.5 2.5l-.94 2.06-2.06.94zm10 10l.94 2.06.94-2.06 2.06-.94-2.06-.94-.94-2.06-.94 2.06-2.06.94z\"/><path d=\"M17.41 7.96l-1.37-1.37c-.4-.4-.92-.59-1.43-.59-.52 0-1.04.2-1.43.59L10.3 9.45l-7.72 7.72c-.78.78-.78 2.05 0 2.83L4 21.41c.39.39.9.59 1.41.59.51 0 1.02-.2 1.41-.59l7.78-7.78 2.81-2.81c.8-.78.8-2.07 0-2.86zM5.41 20L4 18.59l7.72-7.72 1.47 1.35L5.41 20z\"/>\n",
              "  </svg>\n",
              "      </button>\n",
              "      \n",
              "  <style>\n",
              "    .colab-df-container {\n",
              "      display:flex;\n",
              "      flex-wrap:wrap;\n",
              "      gap: 12px;\n",
              "    }\n",
              "\n",
              "    .colab-df-convert {\n",
              "      background-color: #E8F0FE;\n",
              "      border: none;\n",
              "      border-radius: 50%;\n",
              "      cursor: pointer;\n",
              "      display: none;\n",
              "      fill: #1967D2;\n",
              "      height: 32px;\n",
              "      padding: 0 0 0 0;\n",
              "      width: 32px;\n",
              "    }\n",
              "\n",
              "    .colab-df-convert:hover {\n",
              "      background-color: #E2EBFA;\n",
              "      box-shadow: 0px 1px 2px rgba(60, 64, 67, 0.3), 0px 1px 3px 1px rgba(60, 64, 67, 0.15);\n",
              "      fill: #174EA6;\n",
              "    }\n",
              "\n",
              "    [theme=dark] .colab-df-convert {\n",
              "      background-color: #3B4455;\n",
              "      fill: #D2E3FC;\n",
              "    }\n",
              "\n",
              "    [theme=dark] .colab-df-convert:hover {\n",
              "      background-color: #434B5C;\n",
              "      box-shadow: 0px 1px 3px 1px rgba(0, 0, 0, 0.15);\n",
              "      filter: drop-shadow(0px 1px 2px rgba(0, 0, 0, 0.3));\n",
              "      fill: #FFFFFF;\n",
              "    }\n",
              "  </style>\n",
              "\n",
              "      <script>\n",
              "        const buttonEl =\n",
              "          document.querySelector('#df-915a8589-6745-4b7c-a8e2-5d32971cdc2c button.colab-df-convert');\n",
              "        buttonEl.style.display =\n",
              "          google.colab.kernel.accessAllowed ? 'block' : 'none';\n",
              "\n",
              "        async function convertToInteractive(key) {\n",
              "          const element = document.querySelector('#df-915a8589-6745-4b7c-a8e2-5d32971cdc2c');\n",
              "          const dataTable =\n",
              "            await google.colab.kernel.invokeFunction('convertToInteractive',\n",
              "                                                     [key], {});\n",
              "          if (!dataTable) return;\n",
              "\n",
              "          const docLinkHtml = 'Like what you see? Visit the ' +\n",
              "            '<a target=\"_blank\" href=https://colab.research.google.com/notebooks/data_table.ipynb>data table notebook</a>'\n",
              "            + ' to learn more about interactive tables.';\n",
              "          element.innerHTML = '';\n",
              "          dataTable['output_type'] = 'display_data';\n",
              "          await google.colab.output.renderOutput(dataTable, element);\n",
              "          const docLink = document.createElement('div');\n",
              "          docLink.innerHTML = docLinkHtml;\n",
              "          element.appendChild(docLink);\n",
              "        }\n",
              "      </script>\n",
              "    </div>\n",
              "  </div>\n",
              "  "
            ]
          },
          "metadata": {},
          "execution_count": 4
        }
      ]
    },
    {
      "cell_type": "code",
      "source": [
        "df.shape"
      ],
      "metadata": {
        "colab": {
          "base_uri": "https://localhost:8080/"
        },
        "id": "2IEXJWcIQ7lO",
        "outputId": "daf546b6-dcb6-4f4b-d49f-75c9ea4c0509"
      },
      "execution_count": 5,
      "outputs": [
        {
          "output_type": "execute_result",
          "data": {
            "text/plain": [
              "(768, 9)"
            ]
          },
          "metadata": {},
          "execution_count": 5
        }
      ]
    },
    {
      "cell_type": "code",
      "source": [
        "df[\"Outcome\"].value_counts()"
      ],
      "metadata": {
        "colab": {
          "base_uri": "https://localhost:8080/"
        },
        "id": "J5PVagB8Q7ni",
        "outputId": "06e169dc-63eb-496f-afed-2a21bb034392"
      },
      "execution_count": 6,
      "outputs": [
        {
          "output_type": "execute_result",
          "data": {
            "text/plain": [
              "0    500\n",
              "1    268\n",
              "Name: Outcome, dtype: int64"
            ]
          },
          "metadata": {},
          "execution_count": 6
        }
      ]
    },
    {
      "cell_type": "code",
      "source": [
        "\n",
        "# plotting the target column\n",
        "\n",
        "sns.countplot(x=\"Outcome\",data=df)"
      ],
      "metadata": {
        "colab": {
          "base_uri": "https://localhost:8080/",
          "height": 296
        },
        "id": "scRkKzlWQ7p6",
        "outputId": "e133f018-e3c7-4f53-9fbc-a4bee76c4562"
      },
      "execution_count": 7,
      "outputs": [
        {
          "output_type": "execute_result",
          "data": {
            "text/plain": [
              "<matplotlib.axes._subplots.AxesSubplot at 0x7efd2861e820>"
            ]
          },
          "metadata": {},
          "execution_count": 7
        },
        {
          "output_type": "display_data",
          "data": {
            "text/plain": [
              "<Figure size 432x288 with 1 Axes>"
            ],
            "image/png": "[encoded data removed]"
          },
          "metadata": {
            "needs_background": "light"
          }
        }
      ]
    },
    {
      "cell_type": "code",
      "source": [
        "# seperating the data and the labels\n",
        "\n",
        "x = df.drop(columns=\"Outcome\",axis=1)\n",
        "\n",
        "y = df[\"Outcome\"]"
      ],
      "metadata": {
        "id": "EYLsGVlHQ7sS"
      },
      "execution_count": 8,
      "outputs": []
    },
    {
      "cell_type": "code",
      "source": [
        "x.head()"
      ],
      "metadata": {
        "colab": {
          "base_uri": "https://localhost:8080/",
          "height": 206
        },
        "id": "ea42XaLtTS20",
        "outputId": "f1ace8ed-c9c9-4b49-e512-0eb270e8ba6e"
      },
      "execution_count": 9,
      "outputs": [
        {
          "output_type": "execute_result",
          "data": {
            "text/plain": [
              "   Pregnancies  Glucose  BloodPressure  SkinThickness  Insulin   BMI  \\\n",
              "0            6      148             72             35        0  33.6   \n",
              "1            1       85             66             29        0  26.6   \n",
              "2            8      183             64              0        0  23.3   \n",
              "3            1       89             66             23       94  28.1   \n",
              "4            0      137             40             35      168  43.1   \n",
              "\n",
              "   DiabetesPedigreeFunction  Age  \n",
              "0                     0.627   50  \n",
              "1                     0.351   31  \n",
              "2                     0.672   32  \n",
              "3                     0.167   21  \n",
              "4                     2.288   33  "
            ],
            "text/html": [
              "\n",
              "  <div id=\"df-db6837fe-db86-4b27-b596-9e9c14f84fc4\">\n",
              "    <div class=\"colab-df-container\">\n",
              "      <div>\n",
              "<style scoped>\n",
              "    .dataframe tbody tr th:only-of-type {\n",
              "        vertical-align: middle;\n",
              "    }\n",
              "\n",
              "    .dataframe tbody tr th {\n",
              "        vertical-align: top;\n",
              "    }\n",
              "\n",
              "    .dataframe thead th {\n",
              "        text-align: right;\n",
              "    }\n",
              "</style>\n",
              "<table border=\"1\" class=\"dataframe\">\n",
              "  <thead>\n",
              "    <tr style=\"text-align: right;\">\n",
              "      <th></th>\n",
              "      <th>Pregnancies</th>\n",
              "      <th>Glucose</th>\n",
              "      <th>BloodPressure</th>\n",
              "      <th>SkinThickness</th>\n",
              "      <th>Insulin</th>\n",
              "      <th>BMI</th>\n",
              "      <th>DiabetesPedigreeFunction</th>\n",
              "      <th>Age</th>\n",
              "    </tr>\n",
              "  </thead>\n",
              "  <tbody>\n",
              "    <tr>\n",
              "      <th>0</th>\n",
              "      <td>6</td>\n",
              "      <td>148</td>\n",
              "      <td>72</td>\n",
              "      <td>35</td>\n",
              "      <td>0</td>\n",
              "      <td>33.6</td>\n",
              "      <td>0.627</td>\n",
              "      <td>50</td>\n",
              "    </tr>\n",
              "    <tr>\n",
              "      <th>1</th>\n",
              "      <td>1</td>\n",
              "      <td>85</td>\n",
              "      <td>66</td>\n",
              "      <td>29</td>\n",
              "      <td>0</td>\n",
              "      <td>26.6</td>\n",
              "      <td>0.351</td>\n",
              "      <td>31</td>\n",
              "    </tr>\n",
              "    <tr>\n",
              "      <th>2</th>\n",
              "      <td>8</td>\n",
              "      <td>183</td>\n",
              "      <td>64</td>\n",
              "      <td>0</td>\n",
              "      <td>0</td>\n",
              "      <td>23.3</td>\n",
              "      <td>0.672</td>\n",
              "      <td>32</td>\n",
              "    </tr>\n",
              "    <tr>\n",
              "      <th>3</th>\n",
              "      <td>1</td>\n",
              "      <td>89</td>\n",
              "      <td>66</td>\n",
              "      <td>23</td>\n",
              "      <td>94</td>\n",
              "      <td>28.1</td>\n",
              "      <td>0.167</td>\n",
              "      <td>21</td>\n",
              "    </tr>\n",
              "    <tr>\n",
              "      <th>4</th>\n",
              "      <td>0</td>\n",
              "      <td>137</td>\n",
              "      <td>40</td>\n",
              "      <td>35</td>\n",
              "      <td>168</td>\n",
              "      <td>43.1</td>\n",
              "      <td>2.288</td>\n",
              "      <td>33</td>\n",
              "    </tr>\n",
              "  </tbody>\n",
              "</table>\n",
              "</div>\n",
              "      <button class=\"colab-df-convert\" onclick=\"convertToInteractive('df-db6837fe-db86-4b27-b596-9e9c14f84fc4')\"\n",
              "              title=\"Convert this dataframe to an interactive table.\"\n",
              "              style=\"display:none;\">\n",
              "        \n",
              "  <svg xmlns=\"http://www.w3.org/2000/svg\" height=\"24px\"viewBox=\"0 0 24 24\"\n",
              "       width=\"24px\">\n",
              "    <path d=\"M0 0h24v24H0V0z\" fill=\"none\"/>\n",
              "    <path d=\"M18.56 5.44l.94 2.06.94-2.06 2.06-.94-2.06-.94-.94-2.06-.94 2.06-2.06.94zm-11 1L8.5 8.5l.94-2.06 2.06-.94-2.06-.94L8.5 2.5l-.94 2.06-2.06.94zm10 10l.94 2.06.94-2.06 2.06-.94-2.06-.94-.94-2.06-.94 2.06-2.06.94z\"/><path d=\"M17.41 7.96l-1.37-1.37c-.4-.4-.92-.59-1.43-.59-.52 0-1.04.2-1.43.59L10.3 9.45l-7.72 7.72c-.78.78-.78 2.05 0 2.83L4 21.41c.39.39.9.59 1.41.59.51 0 1.02-.2 1.41-.59l7.78-7.78 2.81-2.81c.8-.78.8-2.07 0-2.86zM5.41 20L4 18.59l7.72-7.72 1.47 1.35L5.41 20z\"/>\n",
              "  </svg>\n",
              "      </button>\n",
              "      \n",
              "  <style>\n",
              "    .colab-df-container {\n",
              "      display:flex;\n",
              "      flex-wrap:wrap;\n",
              "      gap: 12px;\n",
              "    }\n",
              "\n",
              "    .colab-df-convert {\n",
              "      background-color: #E8F0FE;\n",
              "      border: none;\n",
              "      border-radius: 50%;\n",
              "      cursor: pointer;\n",
              "      display: none;\n",
              "      fill: #1967D2;\n",
              "      height: 32px;\n",
              "      padding: 0 0 0 0;\n",
              "      width: 32px;\n",
              "    }\n",
              "\n",
              "    .colab-df-convert:hover {\n",
              "      background-color: #E2EBFA;\n",
              "      box-shadow: 0px 1px 2px rgba(60, 64, 67, 0.3), 0px 1px 3px 1px rgba(60, 64, 67, 0.15);\n",
              "      fill: #174EA6;\n",
              "    }\n",
              "\n",
              "    [theme=dark] .colab-df-convert {\n",
              "      background-color: #3B4455;\n",
              "      fill: #D2E3FC;\n",
              "    }\n",
              "\n",
              "    [theme=dark] .colab-df-convert:hover {\n",
              "      background-color: #434B5C;\n",
              "      box-shadow: 0px 1px 3px 1px rgba(0, 0, 0, 0.15);\n",
              "      filter: drop-shadow(0px 1px 2px rgba(0, 0, 0, 0.3));\n",
              "      fill: #FFFFFF;\n",
              "    }\n",
              "  </style>\n",
              "\n",
              "      <script>\n",
              "        const buttonEl =\n",
              "          document.querySelector('#df-db6837fe-db86-4b27-b596-9e9c14f84fc4 button.colab-df-convert');\n",
              "        buttonEl.style.display =\n",
              "          google.colab.kernel.accessAllowed ? 'block' : 'none';\n",
              "\n",
              "        async function convertToInteractive(key) {\n",
              "          const element = document.querySelector('#df-db6837fe-db86-4b27-b596-9e9c14f84fc4');\n",
              "          const dataTable =\n",
              "            await google.colab.kernel.invokeFunction('convertToInteractive',\n",
              "                                                     [key], {});\n",
              "          if (!dataTable) return;\n",
              "\n",
              "          const docLinkHtml = 'Like what you see? Visit the ' +\n",
              "            '<a target=\"_blank\" href=https://colab.research.google.com/notebooks/data_table.ipynb>data table notebook</a>'\n",
              "            + ' to learn more about interactive tables.';\n",
              "          element.innerHTML = '';\n",
              "          dataTable['output_type'] = 'display_data';\n",
              "          await google.colab.output.renderOutput(dataTable, element);\n",
              "          const docLink = document.createElement('div');\n",
              "          docLink.innerHTML = docLinkHtml;\n",
              "          element.appendChild(docLink);\n",
              "        }\n",
              "      </script>\n",
              "    </div>\n",
              "  </div>\n",
              "  "
            ]
          },
          "metadata": {},
          "execution_count": 9
        }
      ]
    },
    {
      "cell_type": "code",
      "source": [
        "y.head()"
      ],
      "metadata": {
        "colab": {
          "base_uri": "https://localhost:8080/"
        },
        "id": "N-BYy4-0TS5X",
        "outputId": "b673f194-5855-498b-eefa-1e1ec213e9d7"
      },
      "execution_count": 10,
      "outputs": [
        {
          "output_type": "execute_result",
          "data": {
            "text/plain": [
              "0    1\n",
              "1    0\n",
              "2    1\n",
              "3    0\n",
              "4    1\n",
              "Name: Outcome, dtype: int64"
            ]
          },
          "metadata": {},
          "execution_count": 10
        }
      ]
    },
    {
      "cell_type": "code",
      "source": [
        "\n",
        "# splitting the dataset in train test and split\n",
        "\n",
        "x_train, x_test, y_train, y_test = train_test_split(\n",
        "                                                    x,\n",
        "                                                    y,\n",
        "                                                    test_size=0.2,\n",
        "                                                    stratify=y,\n",
        "                                                    random_state=42\n",
        "                                                    ) "
      ],
      "metadata": {
        "id": "h9TM7MIOTS74"
      },
      "execution_count": 11,
      "outputs": []
    },
    {
      "cell_type": "code",
      "source": [
        "print(x_train.shape)\n",
        "print(x_test.shape)\n",
        "print(\"* \"*10 )\n",
        "print(y_train.shape)\n",
        "print(y_test.shape)"
      ],
      "metadata": {
        "colab": {
          "base_uri": "https://localhost:8080/"
        },
        "id": "G74GM51UTS-a",
        "outputId": "4530c0d7-5b98-47ef-af4d-ca6cd8dcedc1"
      },
      "execution_count": 12,
      "outputs": [
        {
          "output_type": "stream",
          "name": "stdout",
          "text": [
            "(614, 8)\n",
            "(154, 8)\n",
            "* * * * * * * * * * \n",
            "(614,)\n",
            "(154,)\n"
          ]
        }
      ]
    },
    {
      "cell_type": "code",
      "source": [
        "# scaling is required in the case of ann model so as to reduce the domination of bigger values on smaller values\n",
        "\n",
        "# salary vs age\n",
        "\n",
        "scaler = StandardScaler()\n",
        "\n",
        "x_train_scaled = scaler.fit_transform(x_train)\n",
        "\n",
        "x_test_scaled = scaler.transform(x_test)"
      ],
      "metadata": {
        "id": "R7pP1NyMTTBE"
      },
      "execution_count": 13,
      "outputs": []
    },
    {
      "cell_type": "code",
      "source": [
        "# sequential model are linearly stacked layers on the model \n",
        "\n",
        "# if you wish to change the activation fn or number of nerons you can do that\n",
        "\n",
        "#\n",
        "\n",
        "model = Sequential()\n",
        "\n",
        "model.add(Dense(20,activation=\"relu\",input_dim=8))\n",
        "model.add(Dropout(0.2))\n",
        "model.add(Dense(15,activation=\"relu\"))\n",
        "model.add(Dense(10,activation=\"relu\"))\n",
        "model.add(Dense(1,activation=\"sigmoid\"))\n",
        "\n"
      ],
      "metadata": {
        "id": "QFbAzWf1TTDb"
      },
      "execution_count": 14,
      "outputs": []
    },
    {
      "cell_type": "code",
      "source": [
        "model.summary()"
      ],
      "metadata": {
        "colab": {
          "base_uri": "https://localhost:8080/"
        },
        "id": "9LWR4EjpTTF3",
        "outputId": "39d5be7e-6d93-43cd-ec12-8e2911ae24a3"
      },
      "execution_count": 15,
      "outputs": [
        {
          "output_type": "stream",
          "name": "stdout",
          "text": [
            "Model: \"sequential\"\n",
            "_________________________________________________________________\n",
            " Layer (type)                Output Shape              Param #   \n",
            "=================================================================\n",
            " dense (Dense)               (None, 20)                180       \n",
            "                                                                 \n",
            " dropout (Dropout)           (None, 20)                0         \n",
            "                                                                 \n",
            " dense_1 (Dense)             (None, 15)                315       \n",
            "                                                                 \n",
            " dense_2 (Dense)             (None, 10)                160       \n",
            "                                                                 \n",
            " dense_3 (Dense)             (None, 1)                 11        \n",
            "                                                                 \n",
            "=================================================================\n",
            "Total params: 666\n",
            "Trainable params: 666\n",
            "Non-trainable params: 0\n",
            "_________________________________________________________________\n"
          ]
        }
      ]
    },
    {
      "cell_type": "code",
      "source": [
        "#model.layers[0].get_weights()"
      ],
      "metadata": {
        "id": "zaJosvFbXtZS"
      },
      "execution_count": 16,
      "outputs": []
    },
    {
      "cell_type": "code",
      "source": [
        "model.compile(\n",
        "              loss=\"binary_crossentropy\",\n",
        "              optimizer=\"adam\",\n",
        "              metrics=[\"accuracy\"]\n",
        ")"
      ],
      "metadata": {
        "id": "ATrKkagfXtbk"
      },
      "execution_count": 17,
      "outputs": []
    },
    {
      "cell_type": "code",
      "source": [
        "# here we have fitted the model with train data\n",
        "\n",
        "# we have trained the model for many number of epochs\n",
        "\n",
        "# with the validation split of 0.2 that means 20 percent of the train data is reserved for the validation purpose\n",
        "\n",
        "\n",
        "history = model.fit(\n",
        "                    x_train_scaled,\n",
        "                    y_train,\n",
        "                    verbose=True,\n",
        "                    batch_size=32,\n",
        "                    validation_split=0.2,\n",
        "                    epochs=100\n",
        ")"
      ],
      "metadata": {
        "colab": {
          "base_uri": "https://localhost:8080/"
        },
        "id": "pOdCumqRXtd5",
        "outputId": "379e745d-90cd-4d3f-d7b4-3452fde6a8da"
      },
      "execution_count": 18,
      "outputs": [
        {
          "output_type": "stream",
          "name": "stdout",
          "text": [
            "Epoch 1/100\n",
            "16/16 [==============================] - 3s 16ms/step - loss: 0.6829 - accuracy: 0.5316 - val_loss: 0.6535 - val_accuracy: 0.6016\n",
            "Epoch 2/100\n",
            "16/16 [==============================] - 0s 4ms/step - loss: 0.6526 - accuracy: 0.6090 - val_loss: 0.6253 - val_accuracy: 0.6423\n",
            "Epoch 3/100\n",
            "16/16 [==============================] - 0s 5ms/step - loss: 0.6265 - accuracy: 0.6701 - val_loss: 0.5989 - val_accuracy: 0.7154\n",
            "Epoch 4/100\n",
            "16/16 [==============================] - 0s 5ms/step - loss: 0.6053 - accuracy: 0.7067 - val_loss: 0.5724 - val_accuracy: 0.7317\n",
            "Epoch 5/100\n",
            "16/16 [==============================] - 0s 5ms/step - loss: 0.5826 - accuracy: 0.7108 - val_loss: 0.5496 - val_accuracy: 0.7398\n",
            "Epoch 6/100\n",
            "16/16 [==============================] - 0s 5ms/step - loss: 0.5777 - accuracy: 0.7271 - val_loss: 0.5303 - val_accuracy: 0.7805\n",
            "Epoch 7/100\n",
            "16/16 [==============================] - 0s 4ms/step - loss: 0.5463 - accuracy: 0.7251 - val_loss: 0.5150 - val_accuracy: 0.7724\n",
            "Epoch 8/100\n",
            "16/16 [==============================] - 0s 4ms/step - loss: 0.5318 - accuracy: 0.7536 - val_loss: 0.4986 - val_accuracy: 0.7805\n",
            "Epoch 9/100\n",
            "16/16 [==============================] - 0s 5ms/step - loss: 0.5210 - accuracy: 0.7434 - val_loss: 0.4872 - val_accuracy: 0.7886\n",
            "Epoch 10/100\n",
            "16/16 [==============================] - 0s 5ms/step - loss: 0.5055 - accuracy: 0.7658 - val_loss: 0.4769 - val_accuracy: 0.8049\n",
            "Epoch 11/100\n",
            "16/16 [==============================] - 0s 4ms/step - loss: 0.4906 - accuracy: 0.7658 - val_loss: 0.4682 - val_accuracy: 0.8049\n",
            "Epoch 12/100\n",
            "16/16 [==============================] - 0s 5ms/step - loss: 0.5010 - accuracy: 0.7597 - val_loss: 0.4599 - val_accuracy: 0.8130\n",
            "Epoch 13/100\n",
            "16/16 [==============================] - 0s 4ms/step - loss: 0.4862 - accuracy: 0.7413 - val_loss: 0.4522 - val_accuracy: 0.8130\n",
            "Epoch 14/100\n",
            "16/16 [==============================] - 0s 4ms/step - loss: 0.4826 - accuracy: 0.7617 - val_loss: 0.4461 - val_accuracy: 0.8049\n",
            "Epoch 15/100\n",
            "16/16 [==============================] - 0s 4ms/step - loss: 0.4764 - accuracy: 0.7760 - val_loss: 0.4393 - val_accuracy: 0.8130\n",
            "Epoch 16/100\n",
            "16/16 [==============================] - 0s 5ms/step - loss: 0.4757 - accuracy: 0.7658 - val_loss: 0.4379 - val_accuracy: 0.8211\n",
            "Epoch 17/100\n",
            "16/16 [==============================] - 0s 4ms/step - loss: 0.4605 - accuracy: 0.7821 - val_loss: 0.4308 - val_accuracy: 0.8130\n",
            "Epoch 18/100\n",
            "16/16 [==============================] - 0s 5ms/step - loss: 0.4659 - accuracy: 0.7760 - val_loss: 0.4252 - val_accuracy: 0.8130\n",
            "Epoch 19/100\n",
            "16/16 [==============================] - 0s 7ms/step - loss: 0.4745 - accuracy: 0.7841 - val_loss: 0.4258 - val_accuracy: 0.8049\n",
            "Epoch 20/100\n",
            "16/16 [==============================] - 0s 5ms/step - loss: 0.4683 - accuracy: 0.7760 - val_loss: 0.4274 - val_accuracy: 0.8211\n",
            "Epoch 21/100\n",
            "16/16 [==============================] - 0s 4ms/step - loss: 0.4604 - accuracy: 0.7882 - val_loss: 0.4235 - val_accuracy: 0.8049\n",
            "Epoch 22/100\n",
            "16/16 [==============================] - 0s 5ms/step - loss: 0.4662 - accuracy: 0.7780 - val_loss: 0.4215 - val_accuracy: 0.8130\n",
            "Epoch 23/100\n",
            "16/16 [==============================] - 0s 5ms/step - loss: 0.4538 - accuracy: 0.7943 - val_loss: 0.4182 - val_accuracy: 0.8049\n",
            "Epoch 24/100\n",
            "16/16 [==============================] - 0s 4ms/step - loss: 0.4594 - accuracy: 0.7800 - val_loss: 0.4205 - val_accuracy: 0.7967\n",
            "Epoch 25/100\n",
            "16/16 [==============================] - 0s 4ms/step - loss: 0.4539 - accuracy: 0.7862 - val_loss: 0.4238 - val_accuracy: 0.8049\n",
            "Epoch 26/100\n",
            "16/16 [==============================] - 0s 4ms/step - loss: 0.4555 - accuracy: 0.7882 - val_loss: 0.4217 - val_accuracy: 0.8049\n",
            "Epoch 27/100\n",
            "16/16 [==============================] - 0s 4ms/step - loss: 0.4744 - accuracy: 0.7780 - val_loss: 0.4186 - val_accuracy: 0.7967\n",
            "Epoch 28/100\n",
            "16/16 [==============================] - 0s 4ms/step - loss: 0.4553 - accuracy: 0.7678 - val_loss: 0.4179 - val_accuracy: 0.8130\n",
            "Epoch 29/100\n",
            "16/16 [==============================] - 0s 4ms/step - loss: 0.4566 - accuracy: 0.8024 - val_loss: 0.4161 - val_accuracy: 0.8130\n",
            "Epoch 30/100\n",
            "16/16 [==============================] - 0s 4ms/step - loss: 0.4562 - accuracy: 0.7739 - val_loss: 0.4174 - val_accuracy: 0.8130\n",
            "Epoch 31/100\n",
            "16/16 [==============================] - 0s 5ms/step - loss: 0.4667 - accuracy: 0.7780 - val_loss: 0.4163 - val_accuracy: 0.8130\n",
            "Epoch 32/100\n",
            "16/16 [==============================] - 0s 5ms/step - loss: 0.4492 - accuracy: 0.7862 - val_loss: 0.4135 - val_accuracy: 0.8211\n",
            "Epoch 33/100\n",
            "16/16 [==============================] - 0s 4ms/step - loss: 0.4616 - accuracy: 0.7841 - val_loss: 0.4155 - val_accuracy: 0.8130\n",
            "Epoch 34/100\n",
            "16/16 [==============================] - 0s 6ms/step - loss: 0.4417 - accuracy: 0.7841 - val_loss: 0.4158 - val_accuracy: 0.8211\n",
            "Epoch 35/100\n",
            "16/16 [==============================] - 0s 4ms/step - loss: 0.4445 - accuracy: 0.8065 - val_loss: 0.4138 - val_accuracy: 0.8211\n",
            "Epoch 36/100\n",
            "16/16 [==============================] - 0s 4ms/step - loss: 0.4548 - accuracy: 0.7719 - val_loss: 0.4121 - val_accuracy: 0.8293\n",
            "Epoch 37/100\n",
            "16/16 [==============================] - 0s 5ms/step - loss: 0.4535 - accuracy: 0.7943 - val_loss: 0.4149 - val_accuracy: 0.8211\n",
            "Epoch 38/100\n",
            "16/16 [==============================] - 0s 4ms/step - loss: 0.4547 - accuracy: 0.7841 - val_loss: 0.4159 - val_accuracy: 0.8211\n",
            "Epoch 39/100\n",
            "16/16 [==============================] - 0s 5ms/step - loss: 0.4578 - accuracy: 0.7760 - val_loss: 0.4159 - val_accuracy: 0.8211\n",
            "Epoch 40/100\n",
            "16/16 [==============================] - 0s 4ms/step - loss: 0.4522 - accuracy: 0.7699 - val_loss: 0.4151 - val_accuracy: 0.8293\n",
            "Epoch 41/100\n",
            "16/16 [==============================] - 0s 4ms/step - loss: 0.4496 - accuracy: 0.7841 - val_loss: 0.4145 - val_accuracy: 0.8293\n",
            "Epoch 42/100\n",
            "16/16 [==============================] - 0s 5ms/step - loss: 0.4523 - accuracy: 0.7882 - val_loss: 0.4139 - val_accuracy: 0.8293\n",
            "Epoch 43/100\n",
            "16/16 [==============================] - 0s 4ms/step - loss: 0.4382 - accuracy: 0.7902 - val_loss: 0.4142 - val_accuracy: 0.8293\n",
            "Epoch 44/100\n",
            "16/16 [==============================] - 0s 5ms/step - loss: 0.4496 - accuracy: 0.7760 - val_loss: 0.4136 - val_accuracy: 0.8293\n",
            "Epoch 45/100\n",
            "16/16 [==============================] - 0s 4ms/step - loss: 0.4472 - accuracy: 0.7882 - val_loss: 0.4120 - val_accuracy: 0.8293\n",
            "Epoch 46/100\n",
            "16/16 [==============================] - 0s 4ms/step - loss: 0.4379 - accuracy: 0.7943 - val_loss: 0.4132 - val_accuracy: 0.8293\n",
            "Epoch 47/100\n",
            "16/16 [==============================] - 0s 4ms/step - loss: 0.4289 - accuracy: 0.8045 - val_loss: 0.4151 - val_accuracy: 0.8293\n",
            "Epoch 48/100\n",
            "16/16 [==============================] - 0s 4ms/step - loss: 0.4291 - accuracy: 0.8004 - val_loss: 0.4145 - val_accuracy: 0.8293\n",
            "Epoch 49/100\n",
            "16/16 [==============================] - 0s 5ms/step - loss: 0.4227 - accuracy: 0.8045 - val_loss: 0.4116 - val_accuracy: 0.8293\n",
            "Epoch 50/100\n",
            "16/16 [==============================] - 0s 5ms/step - loss: 0.4458 - accuracy: 0.7821 - val_loss: 0.4133 - val_accuracy: 0.8211\n",
            "Epoch 51/100\n",
            "16/16 [==============================] - 0s 4ms/step - loss: 0.4602 - accuracy: 0.7902 - val_loss: 0.4131 - val_accuracy: 0.8293\n",
            "Epoch 52/100\n",
            "16/16 [==============================] - 0s 4ms/step - loss: 0.4426 - accuracy: 0.7862 - val_loss: 0.4143 - val_accuracy: 0.8211\n",
            "Epoch 53/100\n",
            "16/16 [==============================] - 0s 5ms/step - loss: 0.4382 - accuracy: 0.7882 - val_loss: 0.4154 - val_accuracy: 0.8130\n",
            "Epoch 54/100\n",
            "16/16 [==============================] - 0s 4ms/step - loss: 0.4415 - accuracy: 0.7923 - val_loss: 0.4126 - val_accuracy: 0.8211\n",
            "Epoch 55/100\n",
            "16/16 [==============================] - 0s 4ms/step - loss: 0.4309 - accuracy: 0.7862 - val_loss: 0.4123 - val_accuracy: 0.8293\n",
            "Epoch 56/100\n",
            "16/16 [==============================] - 0s 4ms/step - loss: 0.4366 - accuracy: 0.8126 - val_loss: 0.4116 - val_accuracy: 0.8293\n",
            "Epoch 57/100\n",
            "16/16 [==============================] - 0s 5ms/step - loss: 0.4367 - accuracy: 0.7821 - val_loss: 0.4124 - val_accuracy: 0.8211\n",
            "Epoch 58/100\n",
            "16/16 [==============================] - 0s 4ms/step - loss: 0.4339 - accuracy: 0.8004 - val_loss: 0.4130 - val_accuracy: 0.8293\n",
            "Epoch 59/100\n",
            "16/16 [==============================] - 0s 4ms/step - loss: 0.4224 - accuracy: 0.8045 - val_loss: 0.4122 - val_accuracy: 0.8211\n",
            "Epoch 60/100\n",
            "16/16 [==============================] - 0s 6ms/step - loss: 0.4492 - accuracy: 0.7902 - val_loss: 0.4114 - val_accuracy: 0.8211\n",
            "Epoch 61/100\n",
            "16/16 [==============================] - 0s 5ms/step - loss: 0.4357 - accuracy: 0.7882 - val_loss: 0.4120 - val_accuracy: 0.8293\n",
            "Epoch 62/100\n",
            "16/16 [==============================] - 0s 4ms/step - loss: 0.4260 - accuracy: 0.7984 - val_loss: 0.4132 - val_accuracy: 0.8211\n",
            "Epoch 63/100\n",
            "16/16 [==============================] - 0s 4ms/step - loss: 0.4372 - accuracy: 0.7963 - val_loss: 0.4126 - val_accuracy: 0.8211\n",
            "Epoch 64/100\n",
            "16/16 [==============================] - 0s 4ms/step - loss: 0.4366 - accuracy: 0.7902 - val_loss: 0.4170 - val_accuracy: 0.8211\n",
            "Epoch 65/100\n",
            "16/16 [==============================] - 0s 5ms/step - loss: 0.4211 - accuracy: 0.8024 - val_loss: 0.4165 - val_accuracy: 0.8293\n",
            "Epoch 66/100\n",
            "16/16 [==============================] - 0s 4ms/step - loss: 0.4332 - accuracy: 0.7882 - val_loss: 0.4156 - val_accuracy: 0.8293\n",
            "Epoch 67/100\n",
            "16/16 [==============================] - 0s 4ms/step - loss: 0.4383 - accuracy: 0.7760 - val_loss: 0.4158 - val_accuracy: 0.8293\n",
            "Epoch 68/100\n",
            "16/16 [==============================] - 0s 4ms/step - loss: 0.4447 - accuracy: 0.7780 - val_loss: 0.4167 - val_accuracy: 0.8293\n",
            "Epoch 69/100\n",
            "16/16 [==============================] - 0s 4ms/step - loss: 0.4406 - accuracy: 0.7882 - val_loss: 0.4179 - val_accuracy: 0.8293\n",
            "Epoch 70/100\n",
            "16/16 [==============================] - 0s 6ms/step - loss: 0.4335 - accuracy: 0.7943 - val_loss: 0.4172 - val_accuracy: 0.8293\n",
            "Epoch 71/100\n",
            "16/16 [==============================] - 0s 4ms/step - loss: 0.4282 - accuracy: 0.7882 - val_loss: 0.4187 - val_accuracy: 0.8293\n",
            "Epoch 72/100\n",
            "16/16 [==============================] - 0s 4ms/step - loss: 0.4234 - accuracy: 0.7984 - val_loss: 0.4177 - val_accuracy: 0.8293\n",
            "Epoch 73/100\n",
            "16/16 [==============================] - 0s 4ms/step - loss: 0.4334 - accuracy: 0.7923 - val_loss: 0.4181 - val_accuracy: 0.8293\n",
            "Epoch 74/100\n",
            "16/16 [==============================] - 0s 5ms/step - loss: 0.4273 - accuracy: 0.7902 - val_loss: 0.4223 - val_accuracy: 0.8293\n",
            "Epoch 75/100\n",
            "16/16 [==============================] - 0s 5ms/step - loss: 0.4341 - accuracy: 0.8004 - val_loss: 0.4220 - val_accuracy: 0.8293\n",
            "Epoch 76/100\n",
            "16/16 [==============================] - 0s 6ms/step - loss: 0.4252 - accuracy: 0.7943 - val_loss: 0.4216 - val_accuracy: 0.8293\n",
            "Epoch 77/100\n",
            "16/16 [==============================] - 0s 4ms/step - loss: 0.4331 - accuracy: 0.7984 - val_loss: 0.4214 - val_accuracy: 0.8293\n",
            "Epoch 78/100\n",
            "16/16 [==============================] - 0s 4ms/step - loss: 0.4252 - accuracy: 0.7841 - val_loss: 0.4190 - val_accuracy: 0.8293\n",
            "Epoch 79/100\n",
            "16/16 [==============================] - 0s 6ms/step - loss: 0.4273 - accuracy: 0.8024 - val_loss: 0.4224 - val_accuracy: 0.8293\n",
            "Epoch 80/100\n",
            "16/16 [==============================] - 0s 4ms/step - loss: 0.4244 - accuracy: 0.7943 - val_loss: 0.4236 - val_accuracy: 0.8293\n",
            "Epoch 81/100\n",
            "16/16 [==============================] - 0s 4ms/step - loss: 0.4216 - accuracy: 0.7984 - val_loss: 0.4224 - val_accuracy: 0.8293\n",
            "Epoch 82/100\n",
            "16/16 [==============================] - 0s 4ms/step - loss: 0.4261 - accuracy: 0.8086 - val_loss: 0.4189 - val_accuracy: 0.8211\n",
            "Epoch 83/100\n",
            "16/16 [==============================] - 0s 5ms/step - loss: 0.4276 - accuracy: 0.7902 - val_loss: 0.4192 - val_accuracy: 0.8293\n",
            "Epoch 84/100\n",
            "16/16 [==============================] - 0s 4ms/step - loss: 0.4194 - accuracy: 0.7984 - val_loss: 0.4201 - val_accuracy: 0.8374\n",
            "Epoch 85/100\n",
            "16/16 [==============================] - 0s 6ms/step - loss: 0.4312 - accuracy: 0.7902 - val_loss: 0.4205 - val_accuracy: 0.8211\n",
            "Epoch 86/100\n",
            "16/16 [==============================] - 0s 5ms/step - loss: 0.4181 - accuracy: 0.7984 - val_loss: 0.4211 - val_accuracy: 0.8211\n",
            "Epoch 87/100\n",
            "16/16 [==============================] - 0s 5ms/step - loss: 0.4208 - accuracy: 0.7943 - val_loss: 0.4183 - val_accuracy: 0.8211\n",
            "Epoch 88/100\n",
            "16/16 [==============================] - 0s 5ms/step - loss: 0.4136 - accuracy: 0.8065 - val_loss: 0.4198 - val_accuracy: 0.8293\n",
            "Epoch 89/100\n",
            "16/16 [==============================] - 0s 4ms/step - loss: 0.4340 - accuracy: 0.8004 - val_loss: 0.4189 - val_accuracy: 0.8293\n",
            "Epoch 90/100\n",
            "16/16 [==============================] - 0s 4ms/step - loss: 0.4254 - accuracy: 0.8045 - val_loss: 0.4197 - val_accuracy: 0.8293\n",
            "Epoch 91/100\n",
            "16/16 [==============================] - 0s 4ms/step - loss: 0.4122 - accuracy: 0.7902 - val_loss: 0.4206 - val_accuracy: 0.8293\n",
            "Epoch 92/100\n",
            "16/16 [==============================] - 0s 5ms/step - loss: 0.4015 - accuracy: 0.8106 - val_loss: 0.4184 - val_accuracy: 0.8374\n",
            "Epoch 93/100\n",
            "16/16 [==============================] - 0s 5ms/step - loss: 0.4138 - accuracy: 0.7943 - val_loss: 0.4155 - val_accuracy: 0.8374\n",
            "Epoch 94/100\n",
            "16/16 [==============================] - 0s 4ms/step - loss: 0.4212 - accuracy: 0.7984 - val_loss: 0.4191 - val_accuracy: 0.8130\n",
            "Epoch 95/100\n",
            "16/16 [==============================] - 0s 5ms/step - loss: 0.4112 - accuracy: 0.8208 - val_loss: 0.4185 - val_accuracy: 0.8130\n",
            "Epoch 96/100\n",
            "16/16 [==============================] - 0s 4ms/step - loss: 0.4252 - accuracy: 0.7963 - val_loss: 0.4179 - val_accuracy: 0.8130\n",
            "Epoch 97/100\n",
            "16/16 [==============================] - 0s 4ms/step - loss: 0.4250 - accuracy: 0.7882 - val_loss: 0.4202 - val_accuracy: 0.8211\n",
            "Epoch 98/100\n",
            "16/16 [==============================] - 0s 6ms/step - loss: 0.4159 - accuracy: 0.7984 - val_loss: 0.4212 - val_accuracy: 0.8130\n",
            "Epoch 99/100\n",
            "16/16 [==============================] - 0s 4ms/step - loss: 0.4171 - accuracy: 0.7800 - val_loss: 0.4207 - val_accuracy: 0.8211\n",
            "Epoch 100/100\n",
            "16/16 [==============================] - 0s 4ms/step - loss: 0.4123 - accuracy: 0.8106 - val_loss: 0.4194 - val_accuracy: 0.8130\n"
          ]
        }
      ]
    },
    {
      "cell_type": "code",
      "source": [
        "plt.plot(history.history[\"accuracy\"])\n",
        "plt.plot(history.history[\"val_accuracy\"])\n",
        "\n",
        "plt.title(\"Model Accuracy\")\n",
        "plt.ylabel(\"accuracy\")\n",
        "plt.xlabel(\"epoch\")\n",
        "\n",
        "plt.legend([\"training data\",\"validation data\"],loc=\"lower right\")"
      ],
      "metadata": {
        "colab": {
          "base_uri": "https://localhost:8080/",
          "height": 312
        },
        "id": "MycJVG_qXtgg",
        "outputId": "b0e9ba12-4240-4af1-e966-514705ea2ce5"
      },
      "execution_count": 19,
      "outputs": [
        {
          "output_type": "execute_result",
          "data": {
            "text/plain": [
              "<matplotlib.legend.Legend at 0x7efcad7c25b0>"
            ]
          },
          "metadata": {},
          "execution_count": 19
        },
        {
          "output_type": "display_data",
          "data": {
            "text/plain": [
              "<Figure size 432x288 with 1 Axes>"
            ],
            "image/png": "[encoded data removed]"
          },
          "metadata": {
            "needs_background": "light"
          }
        }
      ]
    },
    {
      "cell_type": "code",
      "source": [
        "plt.plot(history.history[\"loss\"])\n",
        "plt.plot(history.history[\"val_loss\"])\n",
        "\n",
        "plt.title(\"Model Losses\")\n",
        "plt.ylabel(\"accuracy\")\n",
        "plt.xlabel(\"epoch\")\n",
        "\n",
        "plt.legend([\"training data\",\"validation data\"],loc=\"upper right\")"
      ],
      "metadata": {
        "colab": {
          "base_uri": "https://localhost:8080/",
          "height": 312
        },
        "id": "VLjnt11NXtio",
        "outputId": "aa1a167c-8d26-49cc-f4a0-7f20a3781ffe"
      },
      "execution_count": 23,
      "outputs": [
        {
          "output_type": "execute_result",
          "data": {
            "text/plain": [
              "<matplotlib.legend.Legend at 0x7efcad71edc0>"
            ]
          },
          "metadata": {},
          "execution_count": 23
        },
        {
          "output_type": "display_data",
          "data": {
            "text/plain": [
              "<Figure size 432x288 with 1 Axes>"
            ],
            "image/png": "[encoded data removed]"
          },
          "metadata": {
            "needs_background": "light"
          }
        }
      ]
    },
    {
      "cell_type": "code",
      "source": [
        "#  Testing part\n",
        "\n",
        "y_log = model.predict(x_test_scaled)\n",
        "\n",
        "y_log[:2]"
      ],
      "metadata": {
        "colab": {
          "base_uri": "https://localhost:8080/"
        },
        "id": "g5knDrDOXtko",
        "outputId": "3846e68e-1f1d-42b0-8bf4-126627c83157"
      },
      "execution_count": 24,
      "outputs": [
        {
          "output_type": "stream",
          "name": "stdout",
          "text": [
            "5/5 [==============================] - 0s 2ms/step\n"
          ]
        },
        {
          "output_type": "execute_result",
          "data": {
            "text/plain": [
              "array([[0.7743577 ],\n",
              "       [0.28538588]], dtype=float32)"
            ]
          },
          "metadata": {},
          "execution_count": 24
        }
      ]
    },
    {
      "cell_type": "code",
      "source": [
        "y_pred = np.where(y_log>0.5,1,0)\n"
      ],
      "metadata": {
        "id": "JNNX5_b9cC5F"
      },
      "execution_count": 25,
      "outputs": []
    },
    {
      "cell_type": "code",
      "source": [
        "y_pred[:2]"
      ],
      "metadata": {
        "colab": {
          "base_uri": "https://localhost:8080/"
        },
        "id": "tR--Q0-lckZD",
        "outputId": "a7def012-883a-4cbf-f412-bbe4a8f9e08d"
      },
      "execution_count": 26,
      "outputs": [
        {
          "output_type": "execute_result",
          "data": {
            "text/plain": [
              "array([[1],\n",
              "       [0]])"
            ]
          },
          "metadata": {},
          "execution_count": 26
        }
      ]
    },
    {
      "cell_type": "code",
      "source": [
        "# checking the accuracy of the model\n",
        "\n",
        "acc = accuracy_score(y_test,y_pred)\n",
        "\n",
        "print(\"Accuracy Score : \",acc)"
      ],
      "metadata": {
        "colab": {
          "base_uri": "https://localhost:8080/"
        },
        "id": "X52wfph7cC8A",
        "outputId": "d5cb81f3-c9cf-43cb-b2be-f826e70f8dd9"
      },
      "execution_count": 27,
      "outputs": [
        {
          "output_type": "stream",
          "name": "stdout",
          "text": [
            "Accuracy Score :  0.7467532467532467\n"
          ]
        }
      ]
    },
    {
      "cell_type": "code",
      "source": [
        "# print the confussion matrix \n",
        "\n",
        "cnf = confusion_matrix(y_test,y_pred)\n",
        "\n",
        "sns.heatmap(cnf,annot=True)"
      ],
      "metadata": {
        "colab": {
          "base_uri": "https://localhost:8080/",
          "height": 282
        },
        "id": "svpwW-0fcC-9",
        "outputId": "503d91f1-d1c4-4cb0-9704-69e4e42bdf94"
      },
      "execution_count": 28,
      "outputs": [
        {
          "output_type": "execute_result",
          "data": {
            "text/plain": [
              "<matplotlib.axes._subplots.AxesSubplot at 0x7efcad75c8b0>"
            ]
          },
          "metadata": {},
          "execution_count": 28
        },
        {
          "output_type": "display_data",
          "data": {
            "text/plain": [
              "<Figure size 432x288 with 2 Axes>"
            ],
            "image/png": "[encoded data removed]"
          },
          "metadata": {
            "needs_background": "light"
          }
        }
      ]
    },
    {
      "cell_type": "code",
      "source": [
        "input_data = (4,144,58,28,140,29.5,0.287,37)\n",
        "\n",
        "# taking the input in tha array form\n",
        "input_data = np.asarray(input_data)\n",
        "\n",
        "input_data_reshape = input_data.reshape(1,-1)\n",
        "\n",
        "x_test_scaling = scaler.transform(input_data_reshape)\n",
        "\n",
        "prediction = model.predict(x_test_scaling)\n",
        "\n",
        "y_pred = np.where(prediction>0.5,1,0)\n",
        "\n",
        "if y_pred[0][0] == 0:\n",
        "  print(\"Person is not suffering from diabetes\")\n",
        "else:\n",
        "  print(\"Person is suffering from diabetes\")"
      ],
      "metadata": {
        "colab": {
          "base_uri": "https://localhost:8080/"
        },
        "id": "enkLOX61cDEO",
        "outputId": "6d1557a6-c556-4d49-fb3d-2acdd82560f1"
      },
      "execution_count": 29,
      "outputs": [
        {
          "output_type": "stream",
          "name": "stdout",
          "text": [
            "1/1 [==============================] - 0s 17ms/step\n",
            "Person is suffering from diabetes\n"
          ]
        },
        {
          "output_type": "stream",
          "name": "stderr",
          "text": [
            "/usr/local/lib/python3.8/dist-packages/sklearn/base.py:450: UserWarning: X does not have valid feature names, but StandardScaler was fitted with feature names\n",
            "  warnings.warn(\n"
          ]
        }
      ]
    },
    {
      "cell_type": "code",
      "source": [
        "import pickle"
      ],
      "metadata": {
        "id": "sfyiX-nWcDGy"
      },
      "execution_count": 30,
      "outputs": []
    },
    {
      "cell_type": "code",
      "source": [
        "filename = \"trained_model.sav\"\n",
        "pickle.dump(model,open(filename,\"wb\"))"
      ],
      "metadata": {
        "id": "TQ7UgfC4e74_"
      },
      "execution_count": 31,
      "outputs": []
    },
    {
      "cell_type": "code",
      "source": [
        "filename_sc = \"scaler.pkl\"\n",
        "pickle.dump(scaler,open(filename_sc,\"wb\"))"
      ],
      "metadata": {
        "id": "9rKYH9qne771"
      },
      "execution_count": 32,
      "outputs": []
    },
    {
      "cell_type": "code",
      "source": [
        "# loading the model files\n",
        "\n",
        "loaded_model = pickle.load(open(\"trained_model.sav\",\"rb\"))"
      ],
      "metadata": {
        "id": "lk2oDfGSe7-V"
      },
      "execution_count": 33,
      "outputs": []
    },
    {
      "cell_type": "code",
      "source": [
        "# loadinig the model scaling object\n",
        "\n",
        "loaded_scaler = pickle.load(open(\"scaler.pkl\",\"rb\"))\n"
      ],
      "metadata": {
        "id": "Bp-IDeFje8Az"
      },
      "execution_count": 34,
      "outputs": []
    },
    {
      "cell_type": "code",
      "source": [
        "# testing out the records on the loaded model object and the scaler object\n",
        "\n",
        "input_data = (4,144,58,28,140,29.5,0.287,37)\n",
        "\n",
        "# taking the input in tha array form\n",
        "input_data = np.asarray(input_data)\n",
        "\n",
        "input_data_reshape = input_data.reshape(1,-1)\n",
        "\n",
        "x_test_scaling = loaded_scaler.transform(input_data_reshape)\n",
        "\n",
        "prediction = loaded_model.predict(x_test_scaling)\n",
        "\n",
        "y_pred = np.where(prediction>0.5,1,0)\n",
        "\n",
        "if y_pred[0][0] == 0:\n",
        "  print(\"-\"*50)\n",
        "  print(\"Person is not suffering from diabetes\")\n",
        "  print(\"-\"*50)\n",
        "else:\n",
        "  print(\"-\"*50)\n",
        "  print(\"Person is suffering from diabetes\")\n",
        "  print(\"-\"*50)"
      ],
      "metadata": {
        "colab": {
          "base_uri": "https://localhost:8080/"
        },
        "id": "ZN5STVyccDJG",
        "outputId": "5007bcb6-14c7-4418-f66d-bda915f70951"
      },
      "execution_count": 35,
      "outputs": [
        {
          "output_type": "stream",
          "name": "stdout",
          "text": [
            "1/1 [==============================] - 0s 47ms/step\n",
            "--------------------------------------------------\n",
            "Person is suffering from diabetes\n",
            "--------------------------------------------------\n"
          ]
        },
        {
          "output_type": "stream",
          "name": "stderr",
          "text": [
            "/usr/local/lib/python3.8/dist-packages/sklearn/base.py:450: UserWarning: X does not have valid feature names, but StandardScaler was fitted with feature names\n",
            "  warnings.warn(\n"
          ]
        }
      ]
    },
    {
      "cell_type": "code",
      "source": [
        "!pip install keras\n",
        "!pip install ann_visualizer\n",
        "!pip install graphviz"
      ],
      "metadata": {
        "id": "_4h1Pi0TcDL3"
      },
      "execution_count": null,
      "outputs": []
    },
    {
      "cell_type": "code",
      "source": [
        "from ann_visualizer.visualize import ann_viz\n",
        "\n",
        "ann_viz(model)"
      ],
      "metadata": {
        "id": "rdyDrz1-gcJG"
      },
      "execution_count": 37,
      "outputs": []
    },
    {
      "cell_type": "code",
      "source": [
        "df.columns.tolist()"
      ],
      "metadata": {
        "colab": {
          "base_uri": "https://localhost:8080/"
        },
        "id": "0l4iTQ4EYde-",
        "outputId": "4f51f573-8b1b-4d2c-83fb-52550dfa8cca"
      },
      "execution_count": 38,
      "outputs": [
        {
          "output_type": "execute_result",
          "data": {
            "text/plain": [
              "['Pregnancies',\n",
              " 'Glucose',\n",
              " 'BloodPressure',\n",
              " 'SkinThickness',\n",
              " 'Insulin',\n",
              " 'BMI',\n",
              " 'DiabetesPedigreeFunction',\n",
              " 'Age',\n",
              " 'Outcome']"
            ]
          },
          "metadata": {},
          "execution_count": 38
        }
      ]
    },
    {
      "cell_type": "code",
      "source": [
        "!pip install -q streamlit"
      ],
      "metadata": {
        "id": "uuQty4_vgcLq",
        "colab": {
          "base_uri": "https://localhost:8080/"
        },
        "outputId": "020c691d-8849-45bc-de31-634ee876d2b5"
      },
      "execution_count": 39,
      "outputs": [
        {
          "output_type": "stream",
          "name": "stdout",
          "text": [
            "\u001b[K     |████████████████████████████████| 9.2 MB 5.0 MB/s \n",
            "\u001b[K     |████████████████████████████████| 237 kB 58.1 MB/s \n",
            "\u001b[K     |████████████████████████████████| 4.7 MB 72.7 MB/s \n",
            "\u001b[K     |████████████████████████████████| 182 kB 78.3 MB/s \n",
            "\u001b[K     |████████████████████████████████| 164 kB 75.7 MB/s \n",
            "\u001b[K     |████████████████████████████████| 78 kB 7.7 MB/s \n",
            "\u001b[K     |████████████████████████████████| 62 kB 1.3 MB/s \n",
            "\u001b[K     |████████████████████████████████| 51 kB 6.7 MB/s \n",
            "\u001b[?25h  Building wheel for validators (setup.py) ... \u001b[?25l\u001b[?25hdone\n"
          ]
        }
      ]
    },
    {
      "cell_type": "code",
      "source": [
        "%%writefile app.py\n",
        "\n",
        "import numpy as np\n",
        "import pandas as pd\n",
        "import streamlit as st\n",
        "import pickle\n",
        "\n",
        "\n",
        "# loading the model files\n",
        "loaded_model = pickle.load(open(\"trained_model.sav\",\"rb\"))\n",
        "\n",
        "# loadinig the model scaling object\n",
        "loaded_scaler = pickle.load(open(\"scaler.pkl\",\"rb\"))\n",
        "\n",
        "def diabetes_prediction(input_data):\n",
        "  # taking the input in tha array form\n",
        "  input_data = np.asarray(input_data)\n",
        "\n",
        "  input_data_reshape = input_data.reshape(1,-1)\n",
        "\n",
        "  x_test_scaling = loaded_scaler.transform(input_data_reshape)\n",
        "\n",
        "  prediction = loaded_model.predict(x_test_scaling)\n",
        "\n",
        "  y_pred = np.where(prediction>0.5,1,0)\n",
        "\n",
        "  if y_pred[0][0] == 0:\n",
        "    print(\"Person is not suffering from diabetes\")\n",
        "  else:\n",
        "    print(\"Person is suffering from diabetes\")\n",
        "\n",
        "\n",
        "def main():\n",
        "\n",
        "  # giving an title to the web page\n",
        "  st.title(\"Diabetes Prediction Web Application\")\n",
        "\n",
        "  Pregnancies = st.text_input(\"Number of Pregnancies\")\n",
        "  Glucose = st.text_input(\"Glucose Level\")\n",
        "  BloodPressure =  st.text_input(\"BloodPressure Level\")\n",
        "  SkinThickness =  st.text_input(\"SkinThickness Value\")\n",
        "  Insulin =  st.text_input(\"Insulin Level\")\n",
        "  BMI =  st.text_input(\"BMI Value\")\n",
        "  DiabetesPedigreeFunction =  st.text_input(\"DiabetesPedigreeFunction Value\")\n",
        "  Age =  st.text_input(\"Age\")\n",
        " \n",
        "  diagnosis = \"\"\n",
        "\n",
        "  if st.button(\"Diabetes Test Result\"):\n",
        "    diagnosis = diabetes_prediction([Pregnancies,Glucose,BloodPressure,SkinThickness,Insulin,BMI,DiabetesPedigreeFunction,Age])\n",
        "\n",
        "  st.success(diagnosis)\n",
        "\n",
        "\n",
        "\n",
        "if __name__==\"__main__\":\n",
        "  main()\n"
      ],
      "metadata": {
        "id": "FIzKhakwgcOK",
        "colab": {
          "base_uri": "https://localhost:8080/"
        },
        "outputId": "2fd59ec7-edb7-4f24-f48d-4d1e43d67b08"
      },
      "execution_count": 40,
      "outputs": [
        {
          "output_type": "stream",
          "name": "stdout",
          "text": [
            "Writing app.py\n"
          ]
        }
      ]
    },
    {
      "cell_type": "code",
      "source": [
        "pip install pyngrok"
      ],
      "metadata": {
        "id": "NNfP05SrgdBp"
      },
      "execution_count": null,
      "outputs": []
    },
    {
      "cell_type": "code",
      "source": [
        "pip install protobuf==3.20.*\n"
      ],
      "metadata": {
        "id": "tpkWsNurTTHr"
      },
      "execution_count": null,
      "outputs": []
    },
    {
      "cell_type": "code",
      "source": [
        "\n",
        "#docker run -it python:3.10 /bin/bash\n",
        "# Within the Docker container:\n",
        "!pip3 install google-cloud-logging==3.1.1 protobuf==4.21.0\n",
        "!python3 -c \"import google.cloud.logging\""
      ],
      "metadata": {
        "id": "nlwIoZQtw69X"
      },
      "execution_count": null,
      "outputs": []
    },
    {
      "cell_type": "code",
      "source": [
        "!export PROTOCOL_BUFFERS_PYTHON_IMPLEMENTATION=python"
      ],
      "metadata": {
        "id": "_lnk9QpcOrQD"
      },
      "execution_count": 44,
      "outputs": []
    },
    {
      "cell_type": "markdown",
      "source": [],
      "metadata": {
        "id": "vJ3x_LbUjYPf"
      }
    },
    {
      "cell_type": "code",
      "source": [
        "pip install --upgrade \"protobuf<=3.20.1\""
      ],
      "metadata": {
        "id": "xeFWPGuPOrSw"
      },
      "execution_count": null,
      "outputs": []
    },
    {
      "cell_type": "code",
      "source": [
        "!pip install 'protobuf<=3.20.1' --force-reinstall"
      ],
      "metadata": {
        "id": "F0tmxTAoOrVO"
      },
      "execution_count": null,
      "outputs": []
    },
    {
      "cell_type": "code",
      "source": [
        "!streamlit run app.py & npx localtunnel --port 8501"
      ],
      "metadata": {
        "colab": {
          "base_uri": "https://localhost:8080/"
        },
        "id": "QfkRKuYQOrXr",
        "outputId": "0fe96013-2584-4f1d-f71c-5a9c57d7d6bf"
      },
      "execution_count": null,
      "outputs": [
        {
          "output_type": "stream",
          "name": "stdout",
          "text": [
            "[##................] / fetchMetadata: sill resolveWithNewModule ms@2.1.2 checki\u001b[0m\u001b[K\n",
            "Collecting usage statistics. To deactivate, set browser.gatherUsageStats to False.\n",
            "\u001b[0m\n",
            "\u001b[0m\n",
            "\u001b[34m\u001b[1m  You can now view your Streamlit app in your browser.\u001b[0m\n",
            "\u001b[0m\n",
            "\u001b[34m  Network URL: \u001b[0m\u001b[1mhttp://172.28.0.12:8501\u001b[0m\n",
            "\u001b[34m  External URL: \u001b[0m\u001b[1mhttp://35.229.101.72:8501\u001b[0m\n",
            "\u001b[0m\n",
            "\u001b[K\u001b[?25hnpx: installed 22 in 2.796s\n",
            "your url is: https://quick-rabbits-dress-35-229-101-72.loca.lt\n"
          ]
        }
      ]
    },
    {
      "cell_type": "code",
      "source": [],
      "metadata": {
        "id": "S3Pmh3CGOrZ9"
      },
      "execution_count": null,
      "outputs": []
    }
  ]
}